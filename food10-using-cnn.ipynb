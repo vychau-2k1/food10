{
 "cells": [
  {
   "cell_type": "code",
   "execution_count": 1,
   "id": "18635ac3",
   "metadata": {
    "_cell_guid": "b1076dfc-b9ad-4769-8c92-a6c4dae69d19",
    "_uuid": "8f2839f25d086af736a60e9eeb907d3b93b6e0e5",
    "execution": {
     "iopub.execute_input": "2022-05-19T05:35:35.703193Z",
     "iopub.status.busy": "2022-05-19T05:35:35.702612Z",
     "iopub.status.idle": "2022-05-19T05:35:41.523684Z",
     "shell.execute_reply": "2022-05-19T05:35:41.522868Z"
    },
    "papermill": {
     "duration": 5.839358,
     "end_time": "2022-05-19T05:35:41.526197",
     "exception": false,
     "start_time": "2022-05-19T05:35:35.686839",
     "status": "completed"
    },
    "tags": []
   },
   "outputs": [],
   "source": [
    "# Load the libraries\n",
    "import pandas as pd\n",
    "import numpy as np\n",
    "import seaborn as sns\n",
    "import os\n",
    "import cv2\n",
    "import matplotlib.pyplot as plt\n",
    "import random\n",
    "from sklearn.model_selection import train_test_split\n",
    "import keras\n",
    "from keras import Sequential\n",
    "from keras.layers import Activation, Dropout, Flatten, Dense, Conv2D, MaxPooling2D\n",
    "from tensorflow.keras.utils import to_categorical\n",
    "from matplotlib.image import imread"
   ]
  },
  {
   "cell_type": "code",
   "execution_count": 2,
   "id": "ded6538f",
   "metadata": {
    "execution": {
     "iopub.execute_input": "2022-05-19T05:35:41.552858Z",
     "iopub.status.busy": "2022-05-19T05:35:41.552631Z",
     "iopub.status.idle": "2022-05-19T05:35:41.556072Z",
     "shell.execute_reply": "2022-05-19T05:35:41.555344Z"
    },
    "papermill": {
     "duration": 0.018757,
     "end_time": "2022-05-19T05:35:41.557776",
     "exception": false,
     "start_time": "2022-05-19T05:35:41.539019",
     "status": "completed"
    },
    "tags": []
   },
   "outputs": [],
   "source": [
    "train_dir = \"/kaggle/input/food10/train\"\n",
    "test_dir  = \"/kaggle/input/food10/test\""
   ]
  },
  {
   "cell_type": "code",
   "execution_count": 3,
   "id": "6be16b16",
   "metadata": {
    "execution": {
     "iopub.execute_input": "2022-05-19T05:35:41.583148Z",
     "iopub.status.busy": "2022-05-19T05:35:41.582954Z",
     "iopub.status.idle": "2022-05-19T05:35:42.110852Z",
     "shell.execute_reply": "2022-05-19T05:35:42.110087Z"
    },
    "papermill": {
     "duration": 0.5434,
     "end_time": "2022-05-19T05:35:42.113266",
     "exception": false,
     "start_time": "2022-05-19T05:35:41.569866",
     "status": "completed"
    },
    "tags": []
   },
   "outputs": [
    {
     "name": "stdout",
     "output_type": "stream",
     "text": [
      "Found 6273 images belonging to 10 classes.\n"
     ]
    }
   ],
   "source": [
    "from tensorflow.keras.preprocessing.image import ImageDataGenerator\n",
    "\n",
    "target_size = (150,150)\n",
    "batch_size = 16\n",
    "\n",
    "# Data Generator\n",
    "train_datagen = ImageDataGenerator(\n",
    "    rescale=1./255,\n",
    "    rotation_range=40,\n",
    "    width_shift_range=0.2,\n",
    "    height_shift_range=0.2,\n",
    "    shear_range=0.2,\n",
    "    zoom_range=0.2,\n",
    "    horizontal_flip=True,\n",
    "    vertical_flip=True\n",
    ")\n",
    "\n",
    "train_generator = train_datagen.flow_from_directory(\n",
    "    train_dir,\n",
    "    target_size=target_size,\n",
    "    batch_size=batch_size,\n",
    "    color_mode='rgb',    \n",
    "    shuffle=True,\n",
    "    seed=42,\n",
    "    class_mode='categorical')"
   ]
  },
  {
   "cell_type": "code",
   "execution_count": 4,
   "id": "f0cb6715",
   "metadata": {
    "execution": {
     "iopub.execute_input": "2022-05-19T05:35:42.142121Z",
     "iopub.status.busy": "2022-05-19T05:35:42.141814Z",
     "iopub.status.idle": "2022-05-19T05:35:42.354425Z",
     "shell.execute_reply": "2022-05-19T05:35:42.353611Z"
    },
    "papermill": {
     "duration": 0.228587,
     "end_time": "2022-05-19T05:35:42.356484",
     "exception": false,
     "start_time": "2022-05-19T05:35:42.127897",
     "status": "completed"
    },
    "tags": []
   },
   "outputs": [
    {
     "name": "stdout",
     "output_type": "stream",
     "text": [
      "Found 1798 images belonging to 10 classes.\n"
     ]
    }
   ],
   "source": [
    "test_datagen = ImageDataGenerator(rescale=1./255)\n",
    "\n",
    "test_generator = test_datagen.flow_from_directory(\n",
    "    test_dir,\n",
    "    target_size=target_size,\n",
    "    batch_size=batch_size,\n",
    "    color_mode='rgb',\n",
    "    shuffle=False,    \n",
    "    class_mode='categorical')"
   ]
  },
  {
   "cell_type": "code",
   "execution_count": 5,
   "id": "b0c13711",
   "metadata": {
    "execution": {
     "iopub.execute_input": "2022-05-19T05:35:42.385844Z",
     "iopub.status.busy": "2022-05-19T05:35:42.385623Z",
     "iopub.status.idle": "2022-05-19T05:35:44.882723Z",
     "shell.execute_reply": "2022-05-19T05:35:44.881769Z"
    },
    "papermill": {
     "duration": 2.514759,
     "end_time": "2022-05-19T05:35:44.885113",
     "exception": false,
     "start_time": "2022-05-19T05:35:42.370354",
     "status": "completed"
    },
    "tags": []
   },
   "outputs": [
    {
     "name": "stderr",
     "output_type": "stream",
     "text": [
      "2022-05-19 05:35:42.470363: I tensorflow/stream_executor/cuda/cuda_gpu_executor.cc:937] successful NUMA node read from SysFS had negative value (-1), but there must be at least one NUMA node, so returning NUMA node zero\n",
      "2022-05-19 05:35:42.571245: I tensorflow/stream_executor/cuda/cuda_gpu_executor.cc:937] successful NUMA node read from SysFS had negative value (-1), but there must be at least one NUMA node, so returning NUMA node zero\n",
      "2022-05-19 05:35:42.572095: I tensorflow/stream_executor/cuda/cuda_gpu_executor.cc:937] successful NUMA node read from SysFS had negative value (-1), but there must be at least one NUMA node, so returning NUMA node zero\n",
      "2022-05-19 05:35:42.573529: I tensorflow/core/platform/cpu_feature_guard.cc:142] This TensorFlow binary is optimized with oneAPI Deep Neural Network Library (oneDNN) to use the following CPU instructions in performance-critical operations:  AVX2 AVX512F FMA\n",
      "To enable them in other operations, rebuild TensorFlow with the appropriate compiler flags.\n",
      "2022-05-19 05:35:42.573821: I tensorflow/stream_executor/cuda/cuda_gpu_executor.cc:937] successful NUMA node read from SysFS had negative value (-1), but there must be at least one NUMA node, so returning NUMA node zero\n",
      "2022-05-19 05:35:42.574553: I tensorflow/stream_executor/cuda/cuda_gpu_executor.cc:937] successful NUMA node read from SysFS had negative value (-1), but there must be at least one NUMA node, so returning NUMA node zero\n",
      "2022-05-19 05:35:42.575221: I tensorflow/stream_executor/cuda/cuda_gpu_executor.cc:937] successful NUMA node read from SysFS had negative value (-1), but there must be at least one NUMA node, so returning NUMA node zero\n",
      "2022-05-19 05:35:44.465054: I tensorflow/stream_executor/cuda/cuda_gpu_executor.cc:937] successful NUMA node read from SysFS had negative value (-1), but there must be at least one NUMA node, so returning NUMA node zero\n",
      "2022-05-19 05:35:44.465965: I tensorflow/stream_executor/cuda/cuda_gpu_executor.cc:937] successful NUMA node read from SysFS had negative value (-1), but there must be at least one NUMA node, so returning NUMA node zero\n",
      "2022-05-19 05:35:44.466683: I tensorflow/stream_executor/cuda/cuda_gpu_executor.cc:937] successful NUMA node read from SysFS had negative value (-1), but there must be at least one NUMA node, so returning NUMA node zero\n",
      "2022-05-19 05:35:44.468144: I tensorflow/core/common_runtime/gpu/gpu_device.cc:1510] Created device /job:localhost/replica:0/task:0/device:GPU:0 with 15403 MB memory:  -> device: 0, name: Tesla P100-PCIE-16GB, pci bus id: 0000:00:04.0, compute capability: 6.0\n"
     ]
    }
   ],
   "source": [
    "model = Sequential()\n",
    "model.add(Conv2D(32, (3, 3), activation = 'relu', kernel_initializer='he_uniform', padding = 'same', input_shape = (150, 150, 3)))\n",
    "model.add(Conv2D(32, (3, 3), activation = 'relu', kernel_initializer='he_uniform', padding= 'same', input_shape = (150, 150, 3)))\n",
    "model.add(MaxPooling2D((2,2)))\n",
    "model.add(Conv2D(64, (3, 3), activation = 'relu', kernel_initializer='he_uniform', padding = 'same'))\n",
    "model.add(Conv2D(64, (3, 3), activation = 'relu', kernel_initializer='he_uniform', padding = 'same'))\n",
    "model.add(MaxPooling2D((3, 3)))\n",
    "model.add(Conv2D(128, (3, 3), activation = 'relu', kernel_initializer='he_uniform', padding = 'same'))\n",
    "model.add(Conv2D(128, (3, 3), activation = 'relu', kernel_initializer='he_uniform', padding = 'same'))\n",
    "model.add(MaxPooling2D((3, 3)))\n",
    "model.add(Flatten())\n",
    "model.add(Dense(128, activation = 'relu', kernel_initializer='he_uniform'))\n",
    "model.add(Dense(10, activation = 'softmax'))"
   ]
  },
  {
   "cell_type": "code",
   "execution_count": 6,
   "id": "b1084120",
   "metadata": {
    "execution": {
     "iopub.execute_input": "2022-05-19T05:35:44.913899Z",
     "iopub.status.busy": "2022-05-19T05:35:44.913697Z",
     "iopub.status.idle": "2022-05-19T05:35:44.927137Z",
     "shell.execute_reply": "2022-05-19T05:35:44.926313Z"
    },
    "papermill": {
     "duration": 0.029868,
     "end_time": "2022-05-19T05:35:44.928962",
     "exception": false,
     "start_time": "2022-05-19T05:35:44.899094",
     "status": "completed"
    },
    "tags": []
   },
   "outputs": [
    {
     "name": "stderr",
     "output_type": "stream",
     "text": [
      "/opt/conda/lib/python3.7/site-packages/keras/optimizer_v2/optimizer_v2.py:356: UserWarning: The `lr` argument is deprecated, use `learning_rate` instead.\n",
      "  \"The `lr` argument is deprecated, use `learning_rate` instead.\")\n"
     ]
    }
   ],
   "source": [
    "from tensorflow.keras.optimizers import SGD\n",
    "\n",
    "opt = SGD(lr = 0.01, momentum = 0.9)\n",
    "model.compile(optimizer=opt, loss = 'categorical_crossentropy', metrics=['accuracy'])"
   ]
  },
  {
   "cell_type": "code",
   "execution_count": 7,
   "id": "3d033c35",
   "metadata": {
    "execution": {
     "iopub.execute_input": "2022-05-19T05:35:44.957631Z",
     "iopub.status.busy": "2022-05-19T05:35:44.957443Z",
     "iopub.status.idle": "2022-05-19T05:35:44.966105Z",
     "shell.execute_reply": "2022-05-19T05:35:44.965450Z"
    },
    "papermill": {
     "duration": 0.02495,
     "end_time": "2022-05-19T05:35:44.967722",
     "exception": false,
     "start_time": "2022-05-19T05:35:44.942772",
     "status": "completed"
    },
    "tags": []
   },
   "outputs": [],
   "source": [
    "from tensorflow.keras.optimizers import SGD\n",
    "\n",
    "opt = SGD(lr = 0.01, momentum = 0.9)\n",
    "model.compile(optimizer=opt, loss = 'categorical_crossentropy', metrics=['accuracy'])"
   ]
  },
  {
   "cell_type": "code",
   "execution_count": 8,
   "id": "83cbde03",
   "metadata": {
    "execution": {
     "iopub.execute_input": "2022-05-19T05:35:44.997271Z",
     "iopub.status.busy": "2022-05-19T05:35:44.996754Z",
     "iopub.status.idle": "2022-05-19T06:06:33.879596Z",
     "shell.execute_reply": "2022-05-19T06:06:33.878779Z"
    },
    "papermill": {
     "duration": 1848.899951,
     "end_time": "2022-05-19T06:06:33.881726",
     "exception": false,
     "start_time": "2022-05-19T05:35:44.981775",
     "status": "completed"
    },
    "tags": []
   },
   "outputs": [
    {
     "name": "stderr",
     "output_type": "stream",
     "text": [
      "2022-05-19 05:35:45.404168: I tensorflow/compiler/mlir/mlir_graph_optimization_pass.cc:185] None of the MLIR Optimization Passes are enabled (registered 2)\n"
     ]
    },
    {
     "name": "stdout",
     "output_type": "stream",
     "text": [
      "Epoch 1/10\n"
     ]
    },
    {
     "name": "stderr",
     "output_type": "stream",
     "text": [
      "2022-05-19 05:35:47.356259: I tensorflow/stream_executor/cuda/cuda_dnn.cc:369] Loaded cuDNN version 8005\n"
     ]
    },
    {
     "name": "stdout",
     "output_type": "stream",
     "text": [
      "393/393 [==============================] - 207s 508ms/step - loss: 2.2621 - accuracy: 0.1543 - val_loss: 2.1955 - val_accuracy: 0.1813\n",
      "Epoch 2/10\n",
      "393/393 [==============================] - 172s 437ms/step - loss: 2.1986 - accuracy: 0.1856 - val_loss: 2.2293 - val_accuracy: 0.1674\n",
      "Epoch 3/10\n",
      "393/393 [==============================] - 172s 437ms/step - loss: 2.1650 - accuracy: 0.2099 - val_loss: 2.1119 - val_accuracy: 0.2113\n",
      "Epoch 4/10\n",
      "393/393 [==============================] - 174s 443ms/step - loss: 2.1255 - accuracy: 0.2251 - val_loss: 2.0337 - val_accuracy: 0.2653\n",
      "Epoch 5/10\n",
      "393/393 [==============================] - 173s 440ms/step - loss: 2.0235 - accuracy: 0.2756 - val_loss: 2.1856 - val_accuracy: 0.2408\n",
      "Epoch 6/10\n",
      "393/393 [==============================] - 172s 436ms/step - loss: 1.9721 - accuracy: 0.2971 - val_loss: 2.0090 - val_accuracy: 0.2970\n",
      "Epoch 7/10\n",
      "393/393 [==============================] - 172s 437ms/step - loss: 1.9203 - accuracy: 0.3176 - val_loss: 1.7918 - val_accuracy: 0.3860\n",
      "Epoch 8/10\n",
      "393/393 [==============================] - 175s 445ms/step - loss: 1.8659 - accuracy: 0.3498 - val_loss: 1.7232 - val_accuracy: 0.3949\n",
      "Epoch 9/10\n",
      "393/393 [==============================] - 177s 449ms/step - loss: 1.7942 - accuracy: 0.3756 - val_loss: 1.8126 - val_accuracy: 0.3904\n",
      "Epoch 10/10\n",
      "393/393 [==============================] - 179s 455ms/step - loss: 1.7982 - accuracy: 0.3686 - val_loss: 1.7900 - val_accuracy: 0.3548\n"
     ]
    }
   ],
   "source": [
    "history = model.fit(train_generator, batch_size = 128, epochs = 10, validation_data = test_generator, verbose = 1)"
   ]
  },
  {
   "cell_type": "code",
   "execution_count": 9,
   "id": "484b282a",
   "metadata": {
    "execution": {
     "iopub.execute_input": "2022-05-19T06:06:36.471916Z",
     "iopub.status.busy": "2022-05-19T06:06:36.471666Z",
     "iopub.status.idle": "2022-05-19T06:06:36.524802Z",
     "shell.execute_reply": "2022-05-19T06:06:36.524130Z"
    },
    "papermill": {
     "duration": 1.335658,
     "end_time": "2022-05-19T06:06:36.526830",
     "exception": false,
     "start_time": "2022-05-19T06:06:35.191172",
     "status": "completed"
    },
    "tags": []
   },
   "outputs": [],
   "source": [
    "model.save('best_model.h5')"
   ]
  },
  {
   "cell_type": "code",
   "execution_count": 10,
   "id": "54cbb34f",
   "metadata": {
    "execution": {
     "iopub.execute_input": "2022-05-19T06:06:39.372241Z",
     "iopub.status.busy": "2022-05-19T06:06:39.371982Z",
     "iopub.status.idle": "2022-05-19T06:07:14.392875Z",
     "shell.execute_reply": "2022-05-19T06:07:14.392082Z"
    },
    "papermill": {
     "duration": 36.570097,
     "end_time": "2022-05-19T06:07:14.394840",
     "exception": false,
     "start_time": "2022-05-19T06:06:37.824743",
     "status": "completed"
    },
    "tags": []
   },
   "outputs": [
    {
     "name": "stdout",
     "output_type": "stream",
     "text": [
      "113/113 [==============================] - 34s 303ms/step - loss: 1.7900 - accuracy: 0.3548\n"
     ]
    },
    {
     "data": {
      "text/plain": [
       "[1.7899606227874756, 0.35483869910240173]"
      ]
     },
     "execution_count": 10,
     "metadata": {},
     "output_type": "execute_result"
    }
   ],
   "source": [
    "model.evaluate(test_generator)"
   ]
  },
  {
   "cell_type": "code",
   "execution_count": 11,
   "id": "62bbf6ac",
   "metadata": {
    "execution": {
     "iopub.execute_input": "2022-05-19T06:07:17.044028Z",
     "iopub.status.busy": "2022-05-19T06:07:17.043771Z",
     "iopub.status.idle": "2022-05-19T06:07:17.048976Z",
     "shell.execute_reply": "2022-05-19T06:07:17.048180Z"
    },
    "papermill": {
     "duration": 1.312928,
     "end_time": "2022-05-19T06:07:17.052440",
     "exception": false,
     "start_time": "2022-05-19T06:07:15.739512",
     "status": "completed"
    },
    "tags": []
   },
   "outputs": [
    {
     "name": "stdout",
     "output_type": "stream",
     "text": [
      "['Banh beo', 'Banh chung', 'Banh khot', 'Banh mi', 'Banh xeo', 'Bun dau mam tom', 'Canh chua', 'Com tam', 'Hu tieu', 'Pho']\n",
      "10\n"
     ]
    }
   ],
   "source": [
    "classes = list(train_generator.class_indices.keys())\n",
    "print(classes)\n",
    "print(len(classes))"
   ]
  },
  {
   "cell_type": "code",
   "execution_count": 12,
   "id": "69c600af",
   "metadata": {
    "execution": {
     "iopub.execute_input": "2022-05-19T06:07:19.746001Z",
     "iopub.status.busy": "2022-05-19T06:07:19.745733Z",
     "iopub.status.idle": "2022-05-19T06:07:19.751965Z",
     "shell.execute_reply": "2022-05-19T06:07:19.751248Z"
    },
    "papermill": {
     "duration": 1.300825,
     "end_time": "2022-05-19T06:07:19.753933",
     "exception": false,
     "start_time": "2022-05-19T06:07:18.453108",
     "status": "completed"
    },
    "tags": []
   },
   "outputs": [],
   "source": [
    "import cv2\n",
    "import numpy as np \n",
    "\n",
    "def predict(path):\n",
    "  img = cv2.imread(path)\n",
    "  img = img[:, :, ::-1]\n",
    "  img = cv2.resize(img,(im_size, im_size))\n",
    "\n",
    "  plt.imshow(img)\n",
    "\n",
    "  x = np.reshape(img, (1, img_size, im_size, 3))\n",
    "  p = model.predict(x / 255)\n",
    "  # print(p)\n",
    "  arg = np.argmax(p, axis=-1)[0]\n",
    "  print('class:',classes[arg])\n",
    "  print('prob:', p[0][arg])"
   ]
  },
  {
   "cell_type": "code",
   "execution_count": 13,
   "id": "ed6545ff",
   "metadata": {
    "execution": {
     "iopub.execute_input": "2022-05-19T06:07:22.498755Z",
     "iopub.status.busy": "2022-05-19T06:07:22.498443Z",
     "iopub.status.idle": "2022-05-19T06:07:22.932103Z",
     "shell.execute_reply": "2022-05-19T06:07:22.931074Z"
    },
    "papermill": {
     "duration": 1.874635,
     "end_time": "2022-05-19T06:07:22.933783",
     "exception": true,
     "start_time": "2022-05-19T06:07:21.059148",
     "status": "failed"
    },
    "tags": []
   },
   "outputs": [
    {
     "ename": "TypeError",
     "evalue": "'NoneType' object is not subscriptable",
     "output_type": "error",
     "traceback": [
      "\u001b[0;31m---------------------------------------------------------------------------\u001b[0m",
      "\u001b[0;31mTypeError\u001b[0m                                 Traceback (most recent call last)",
      "\u001b[0;32m/tmp/ipykernel_24/1717956812.py\u001b[0m in \u001b[0;36m<module>\u001b[0;34m\u001b[0m\n\u001b[1;32m      1\u001b[0m \u001b[0mpath\u001b[0m \u001b[0;34m=\u001b[0m \u001b[0;34m'kaggle/input/food10/test/Banh mi/1020.jpg'\u001b[0m\u001b[0;34m\u001b[0m\u001b[0;34m\u001b[0m\u001b[0m\n\u001b[0;32m----> 2\u001b[0;31m \u001b[0mpredict\u001b[0m\u001b[0;34m(\u001b[0m\u001b[0mpath\u001b[0m\u001b[0;34m)\u001b[0m\u001b[0;34m\u001b[0m\u001b[0;34m\u001b[0m\u001b[0m\n\u001b[0m",
      "\u001b[0;32m/tmp/ipykernel_24/2096217534.py\u001b[0m in \u001b[0;36mpredict\u001b[0;34m(path)\u001b[0m\n\u001b[1;32m      4\u001b[0m \u001b[0;32mdef\u001b[0m \u001b[0mpredict\u001b[0m\u001b[0;34m(\u001b[0m\u001b[0mpath\u001b[0m\u001b[0;34m)\u001b[0m\u001b[0;34m:\u001b[0m\u001b[0;34m\u001b[0m\u001b[0;34m\u001b[0m\u001b[0m\n\u001b[1;32m      5\u001b[0m   \u001b[0mimg\u001b[0m \u001b[0;34m=\u001b[0m \u001b[0mcv2\u001b[0m\u001b[0;34m.\u001b[0m\u001b[0mimread\u001b[0m\u001b[0;34m(\u001b[0m\u001b[0mpath\u001b[0m\u001b[0;34m)\u001b[0m\u001b[0;34m\u001b[0m\u001b[0;34m\u001b[0m\u001b[0m\n\u001b[0;32m----> 6\u001b[0;31m   \u001b[0mimg\u001b[0m \u001b[0;34m=\u001b[0m \u001b[0mimg\u001b[0m\u001b[0;34m[\u001b[0m\u001b[0;34m:\u001b[0m\u001b[0;34m,\u001b[0m \u001b[0;34m:\u001b[0m\u001b[0;34m,\u001b[0m \u001b[0;34m:\u001b[0m\u001b[0;34m:\u001b[0m\u001b[0;34m-\u001b[0m\u001b[0;36m1\u001b[0m\u001b[0;34m]\u001b[0m\u001b[0;34m\u001b[0m\u001b[0;34m\u001b[0m\u001b[0m\n\u001b[0m\u001b[1;32m      7\u001b[0m   \u001b[0mimg\u001b[0m \u001b[0;34m=\u001b[0m \u001b[0mcv2\u001b[0m\u001b[0;34m.\u001b[0m\u001b[0mresize\u001b[0m\u001b[0;34m(\u001b[0m\u001b[0mimg\u001b[0m\u001b[0;34m,\u001b[0m\u001b[0;34m(\u001b[0m\u001b[0mim_size\u001b[0m\u001b[0;34m,\u001b[0m \u001b[0mim_size\u001b[0m\u001b[0;34m)\u001b[0m\u001b[0;34m)\u001b[0m\u001b[0;34m\u001b[0m\u001b[0;34m\u001b[0m\u001b[0m\n\u001b[1;32m      8\u001b[0m \u001b[0;34m\u001b[0m\u001b[0m\n",
      "\u001b[0;31mTypeError\u001b[0m: 'NoneType' object is not subscriptable"
     ]
    }
   ],
   "source": [
    "path = 'kaggle/input/food10/test/Banh mi/1020.jpg'\n",
    "predict(path)"
   ]
  },
  {
   "cell_type": "code",
   "execution_count": null,
   "id": "d1364e7e",
   "metadata": {
    "papermill": {
     "duration": null,
     "end_time": null,
     "exception": null,
     "start_time": null,
     "status": "pending"
    },
    "tags": []
   },
   "outputs": [],
   "source": []
  }
 ],
 "metadata": {
  "kernelspec": {
   "display_name": "Python 3",
   "language": "python",
   "name": "python3"
  },
  "language_info": {
   "codemirror_mode": {
    "name": "ipython",
    "version": 3
   },
   "file_extension": ".py",
   "mimetype": "text/x-python",
   "name": "python",
   "nbconvert_exporter": "python",
   "pygments_lexer": "ipython3",
   "version": "3.7.12"
  },
  "papermill": {
   "default_parameters": {},
   "duration": 1920.633215,
   "end_time": "2022-05-19T06:07:27.894637",
   "environment_variables": {},
   "exception": true,
   "input_path": "__notebook__.ipynb",
   "output_path": "__notebook__.ipynb",
   "parameters": {},
   "start_time": "2022-05-19T05:35:27.261422",
   "version": "2.3.4"
  }
 },
 "nbformat": 4,
 "nbformat_minor": 5
}
